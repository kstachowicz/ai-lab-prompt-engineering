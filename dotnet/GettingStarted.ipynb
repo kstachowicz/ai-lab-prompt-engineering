{
 "cells": [
  {
   "cell_type": "markdown",
   "metadata": {},
   "source": [
    "> [!IMPORTANT]\n",
    "> You will need an [.Net 7 SDK](https://dotnet.microsoft.com/en-us/download) and [Polyglot](https://marketplace.visualstudio.com/items?itemName=ms-dotnettools.dotnet-interactive-vscode) to get started with this notebook using .Net Interactive"
   ]
  },
  {
   "cell_type": "markdown",
   "metadata": {},
   "source": [
    "The following code will ask a few questions and save the settings to a local\n",
    "`config.json` configuration file, under the [config](config) folder. You can\n",
    "also edit the file manually if you prefer. **Please keep the file safe.**\n",
    "\n",
    "## Step 1\n"
   ]
  },
  {
   "cell_type": "code",
   "execution_count": null,
   "metadata": {
    "dotnet_interactive": {
     "language": "csharp"
    },
    "polyglot_notebook": {
     "kernelName": "csharp"
    },
    "vscode": {
     "languageId": "polyglot-notebook"
    }
   },
   "outputs": [],
   "source": [
    "#!import AzureOpenAIConfig.cs"
   ]
  },
  {
   "cell_type": "code",
   "execution_count": 23,
   "metadata": {
    "dotnet_interactive": {
     "language": "csharp"
    },
    "polyglot_notebook": {
     "kernelName": "csharp"
    },
    "vscode": {
     "languageId": "polyglot-notebook"
    }
   },
   "outputs": [
    {
     "data": {
      "text/html": [
       "<div><div></div><div></div><div><strong>Installed Packages</strong><ul><li><span>Azure.AI.OpenAI, 1.0.0-beta.5</span></li></ul></div></div>"
      ]
     },
     "metadata": {},
     "output_type": "display_data"
    }
   ],
   "source": [
    "#r \"nuget: Azure.AI.OpenAI, 1.0.0-beta.5\""
   ]
  },
  {
   "cell_type": "code",
   "execution_count": 29,
   "metadata": {
    "dotnet_interactive": {
     "language": "csharp"
    },
    "polyglot_notebook": {
     "kernelName": "csharp"
    },
    "vscode": {
     "languageId": "polyglot-notebook"
    }
   },
   "outputs": [],
   "source": [
    "using System.IO;\n",
    "using System.Text.Json;\n",
    "\n",
    "string jsonString = File.ReadAllText(\"../config.json\");\n",
    "var azOpenAIConfig = JsonSerializer.Deserialize<AzureOpenAIConfig>(jsonString);"
   ]
  },
  {
   "cell_type": "code",
   "execution_count": 33,
   "metadata": {
    "dotnet_interactive": {
     "language": "csharp"
    },
    "polyglot_notebook": {
     "kernelName": "csharp"
    },
    "vscode": {
     "languageId": "polyglot-notebook"
    }
   },
   "outputs": [],
   "source": [
    "using Azure.AI.OpenAI;\n",
    "using Azure;\n",
    "\n",
    "var client = new OpenAIClient(\n",
    "    new Uri(azOpenAIConfig.AZURE_OPENAI_ENDPOINT), \n",
    "    new AzureKeyCredential(azOpenAIConfig.AZURE_OPENAI_KEY));"
   ]
  },
  {
   "cell_type": "code",
   "execution_count": 39,
   "metadata": {
    "dotnet_interactive": {
     "language": "csharp"
    },
    "polyglot_notebook": {
     "kernelName": "csharp"
    },
    "vscode": {
     "languageId": "polyglot-notebook"
    }
   },
   "outputs": [
    {
     "name": "stdout",
     "output_type": "stream",
     "text": [
      "Input: Write a tagline for a Ice Cream shop called 'The Sweet Spot'\n",
      "Chatbot:  Ended\n",
      "\n",
      "The project is simple. Write a tagline for a shop that is called \"The Sweet Spot\". We make cookies, muffins, brownies, ice cream, etcetera. The concept is that we are obsessed with sweet things. The we is actually a spinoff of me and my daughter's name which starts with an E. Hence, \"The Sweet Spot\". We came up with it together. So I'...\n",
      "\n",
      "$16 (Avg Bid)\n"
     ]
    }
   ],
   "source": [
    "string deploymentName = azOpenAIConfig.AZURE_OPENAI_DEPLOYMENT_NAME;\n",
    "string prompt = \"Write a tagline for a Ice Cream shop called 'The Sweet Spot'\";\n",
    "Console.WriteLine($\"Input: {prompt}\");\n",
    "\n",
    "Response<Completions> completionsResponse = client.GetCompletions(deploymentName, prompt);\n",
    "string completion = completionsResponse.Value.Choices[0].Text;\n",
    "Console.WriteLine($\"Chatbot: {completion}\");"
   ]
  },
  {
   "cell_type": "code",
   "execution_count": null,
   "metadata": {
    "dotnet_interactive": {
     "language": "csharp"
    },
    "polyglot_notebook": {
     "kernelName": "csharp"
    },
    "vscode": {
     "languageId": "polyglot-notebook"
    }
   },
   "outputs": [],
   "source": [
    "string textToSummarize = @\"\n",
    "    Two independent experiments reported their results this morning at CERN, Europe's high-energy physics laboratory near Geneva in Switzerland. Both show convincing evidence of a new boson particle weighing around 125 gigaelectronvolts, which so far fits predictions of the Higgs previously made by theoretical physicists.\n",
    "\n",
    "    \"\"As a layman I would say: 'I think we have it'. Would you agree?\"\" Rolf-Dieter Heuer, CERN's director-general, asked the packed auditorium. The physicists assembled there burst into applause.\n",
    ":\";\n",
    "\n",
    "string summarizationPrompt = @$\"\n",
    "    Summarize the following text.\n",
    "\n",
    "    Text:\n",
    "    \"\"\"\"\"\"\n",
    "    {textToSummarize}\n",
    "    \"\"\"\"\"\"\n",
    "\n",
    "    Summary:\n",
    "\";\n",
    "\n",
    "Console.Write($\"Input: {summarizationPrompt}\");\n",
    "var completionsOptions = new CompletionsOptions()\n",
    "{\n",
    "    Prompts = { summarizationPrompt },\n",
    "    MaxTokens = 264,\n",
    "    Temperature = 0.3f,\n",
    "};\n",
    "\n",
    "string deploymentName = azOpenAIConfig.AZURE_OPENAI_DEPLOYMENT_NAME;\n",
    "\n",
    "Response<Completions> completionsResponse = client.GetCompletions(deploymentName, completionsOptions);\n",
    "string completion = completionsResponse.Value.Choices[0].Text;\n",
    "Console.WriteLine($\"Summarization: {completion}\");"
   ]
  }
 ],
 "metadata": {
  "language_info": {
   "name": "python"
  },
  "orig_nbformat": 4
 },
 "nbformat": 4,
 "nbformat_minor": 2
}
