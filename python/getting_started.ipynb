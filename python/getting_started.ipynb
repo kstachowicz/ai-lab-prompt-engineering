{
 "cells": [
  {
   "cell_type": "markdown",
   "metadata": {},
   "source": [
    "### Pre-configuration\n",
    "Before we start, let's load into environemt variables required Azure OpenAI Key and Endopoint from `config.json` file, that we will use to connect to our deployed Azure OpenAI service. "
   ]
  },
  {
   "cell_type": "code",
   "execution_count": 1,
   "metadata": {},
   "outputs": [],
   "source": [
    "import json\n",
    "import os\n",
    "\n",
    "with open('../config.json', 'r') as f:\n",
    "    config = json.load(f)\n",
    "\n",
    "for key, value in config.items():\n",
    "    os.environ[key] = value"
   ]
  },
  {
   "cell_type": "markdown",
   "metadata": {},
   "source": [
    "### Step #1\n",
    "Get python openai library"
   ]
  },
  {
   "cell_type": "code",
   "execution_count": 11,
   "metadata": {},
   "outputs": [
    {
     "name": "stdout",
     "output_type": "stream",
     "text": [
      "Requirement already satisfied: openai in /opt/conda/lib/python3.11/site-packages (1.3.9)\n",
      "Requirement already satisfied: anyio<5,>=3.5.0 in /opt/conda/lib/python3.11/site-packages (from openai) (4.1.0)\n",
      "Requirement already satisfied: distro<2,>=1.7.0 in /opt/conda/lib/python3.11/site-packages (from openai) (1.8.0)\n",
      "Requirement already satisfied: httpx<1,>=0.23.0 in /opt/conda/lib/python3.11/site-packages (from openai) (0.25.2)\n",
      "Requirement already satisfied: pydantic<3,>=1.9.0 in /opt/conda/lib/python3.11/site-packages (from openai) (2.5.2)\n",
      "Requirement already satisfied: sniffio in /opt/conda/lib/python3.11/site-packages (from openai) (1.3.0)\n",
      "Requirement already satisfied: tqdm>4 in /opt/conda/lib/python3.11/site-packages (from openai) (4.65.0)\n",
      "Requirement already satisfied: typing-extensions<5,>=4.5 in /opt/conda/lib/python3.11/site-packages (from openai) (4.9.0)\n",
      "Requirement already satisfied: idna>=2.8 in /opt/conda/lib/python3.11/site-packages (from anyio<5,>=3.5.0->openai) (3.4)\n",
      "Requirement already satisfied: certifi in /opt/conda/lib/python3.11/site-packages (from httpx<1,>=0.23.0->openai) (2023.11.17)\n",
      "Requirement already satisfied: httpcore==1.* in /opt/conda/lib/python3.11/site-packages (from httpx<1,>=0.23.0->openai) (1.0.2)\n",
      "Requirement already satisfied: h11<0.15,>=0.13 in /opt/conda/lib/python3.11/site-packages (from httpcore==1.*->httpx<1,>=0.23.0->openai) (0.14.0)\n",
      "Requirement already satisfied: annotated-types>=0.4.0 in /opt/conda/lib/python3.11/site-packages (from pydantic<3,>=1.9.0->openai) (0.6.0)\n",
      "Requirement already satisfied: pydantic-core==2.14.5 in /opt/conda/lib/python3.11/site-packages (from pydantic<3,>=1.9.0->openai) (2.14.5)\n",
      "Note: you may need to restart the kernel to use updated packages.\n"
     ]
    }
   ],
   "source": [
    "pip install openai"
   ]
  },
  {
   "cell_type": "markdown",
   "metadata": {},
   "source": [
    "### Step #2\n",
    "Config Azure OpenAI access"
   ]
  },
  {
   "cell_type": "code",
   "execution_count": 14,
   "metadata": {},
   "outputs": [],
   "source": [
    "import os\n",
    "from  openai import AzureOpenAI\n",
    "\n",
    "client = AzureOpenAI(\n",
    "    api_key=os.getenv(\"AZURE_OPENAI_KEY\"),  \n",
    "    api_version=\"2023-10-01-preview\",\n",
    "    azure_endpoint = os.getenv(\"AZURE_OPENAI_ENDPOINT\")\n",
    "    )\n",
    "\n",
    "deployment_name= os.getenv(\"AZURE_OPENAI_DEPLOYMENT_NAME\") #This will correspond to the custom name you chose for your deployment when you deployed a model."
   ]
  },
  {
   "cell_type": "code",
   "execution_count": null,
   "metadata": {},
   "outputs": [],
   "source": []
  },
  {
   "cell_type": "markdown",
   "metadata": {},
   "source": [
    "### Step 3\n",
    "Configure parameters of `get_response` method. Make sure you're using the proper model name that corresponds with your deployed OpenAI model on Azure (ex.' gpt-35-turbo' for GPT-3.5, or 'GPT-4').\n"
   ]
  },
  {
   "cell_type": "code",
   "execution_count": 16,
   "metadata": {},
   "outputs": [],
   "source": [
    "def get_response(system_message, prompt):\n",
    "\n",
    "    response = client.chat.completions.create(\n",
    "    model=deployment_name,\n",
    "    messages=[\n",
    "        {\"role\": \"system\", \"content\": system_message},\n",
    "        {\"role\": \"user\", \"content\": prompt}],\n",
    "    temperature=0,\n",
    "    max_tokens=264,\n",
    "    )\n",
    "\n",
    "    return response.choices[0].message.content\n",
    "\n"
   ]
  },
  {
   "cell_type": "markdown",
   "metadata": {},
   "source": [
    "## Sample 1\n",
    "Marketing material generation based on product information"
   ]
  },
  {
   "cell_type": "code",
   "execution_count": 17,
   "metadata": {},
   "outputs": [],
   "source": [
    "fact_about_product = \"\"\"\n",
    "Krzesło Packview 3b20\n",
    "\n",
    "Część pięknej rodziny mebli biurowych inspirowanych designem z lat 50., w tym szafki na dokumenty, biurka, regały, stoły konferencyjne i inne.\n",
    "Kilka opcji koloru korpusu i wykończenia podstawy.\n",
    "Dostępne z tapicerką z tworzywa sztucznego na tylnej i przedniej części (SWC-100) lub w pełni tapicerowane (SWC-110) w 10 opcjach tkanin i 6 opcjach skóry.\n",
    "Opcje wykończenia podstawy: stal nierdzewna, matowa czerń, błyszczący biały lub chrom.\n",
    "Krzesło dostępne z lub bez podłokietników.\n",
    "Nadaje się do użytku domowego lub biznesowego.\n",
    "Spełnia wymogi kontraktowe.\n",
    "\n",
    "KONSTRUKCJA\n",
    "Podstawa z aluminium z powłoką z tworzywa sztucznego na 5 kółkach.\n",
    "Pneumatyczna regulacja wysokości krzesła dla łatwego podnoszenia/opuszczania.\n",
    "\n",
    "WYMIARY\n",
    "SZEROKOŚĆ 53 CM | 20,87\"\n",
    "GŁĘBOKOŚĆ 51 CM | 20,08\"\n",
    "WYSOKOŚĆ 80 CM | 31,50\"\n",
    "WYSOKOŚĆ SIEDZISKA 44 CM | 17,32\"\n",
    "GŁĘBOKOŚĆ SIEDZISKA 41 CM | 16,14\"\n",
    "\n",
    "OPCJE\n",
    "Opcje kółek do miękkiej lub twardej podłogi.\n",
    "Dwie gęstości siedziska do wyboru: średnia (1,8 lb/ft3) lub wysoka (2,8 lb/ft3).\n",
    "Bez podłokietników lub z 8-stopniowymi podłokietnikami z PU.\n",
    "\n",
    "MATERIAŁY\n",
    "\n",
    "KORPUS PODSTAWY ŚLIZGACZ\n",
    "Odlewnicze aluminium z powłoką z modyfikowanego nylonu PA6/PA66.\n",
    "Grubość korpusu: 10 mm.\n",
    "\n",
    "SIEDZISKO\n",
    "Pianka HD36.\n",
    "\n",
    "KRAJ POCHODZENIA\n",
    "Włochy.\n",
    "\"\"\""
   ]
  },
  {
   "cell_type": "code",
   "execution_count": 19,
   "metadata": {},
   "outputs": [],
   "source": [
    "system_prompt = f\"\"\"\n",
    "Youre're a helpful assistant that completes users task. Be polite.\n",
    "\"\"\""
   ]
  },
  {
   "cell_type": "code",
   "execution_count": 20,
   "metadata": {},
   "outputs": [
    {
     "name": "stdout",
     "output_type": "stream",
     "text": [
      "Introducing the Packview 3b20 Chair, a stylish addition to our office furniture collection inspired by 1950s design. With multiple color options for the body and base finish, and a choice of plastic upholstery on the front and back (SWC-100) or fully upholstered (SWC-110) in 10 fabric and 6 leather options, this chair offers versatility and elegance. Its aluminum base with plastic coating and pneumatic height adjustment make it suitable for both home and business use, meeting contract requirements. Made with high-quality materials and available with options for different floor types and seat densities, the Packview 3b20 Chair combines Italian craftsmanship with modern functionality.\n"
     ]
    }
   ],
   "source": [
    "prompt = f\"\"\"\n",
    "Your task is to help a marketing team create a \n",
    "description for a retail website of a product based \n",
    "on a technical fact sheet.\n",
    "\n",
    "Write a product description in 3 sentences based on the information \n",
    "provided in the technical specifications delimited by \n",
    "triple backticks.\n",
    "\n",
    "Technical specifications: ```{fact_about_product}```\n",
    "\"\"\"\n",
    "response = get_response(system_prompt, prompt)\n",
    "print(response)"
   ]
  },
  {
   "cell_type": "markdown",
   "metadata": {},
   "source": [
    "## Sample 2\n",
    "Summary of customer conversation"
   ]
  },
  {
   "cell_type": "code",
   "execution_count": 21,
   "metadata": {},
   "outputs": [],
   "source": [
    "customer_conversation = \"\"\"\n",
    "Klient: Dzień dobry, mam urlop pomiędzy 25 sierpnia a 11 września. Odkładałem 4000 złotych na fajną podróż. Chciabym wylecieć z Warszawy, jakie macie sugestie, gdzie mogę polecieć?\n",
    "Agent: Za ten budżet możesz podróżować do miast w Bułgarii, Albanii, Chorwacji, Włoszech lub Turcji. Czy ma pan jakieś preferencje?\n",
    "Klient: Super, zawsze chciałem zobaczyć Chorwację. Jakie hotele są dostępne?\n",
    "Agent: Cieszę się, już sprawdzam co mamy dostępne. Czy mogę tylko potwierdzić, że ta podróż dotyczy jednej osoby dorosłej?\n",
    "Klient: Tak, dotyczy jednej osoby.\n",
    "Agent: Rozumiem, dziękuję. W takim przypadku mogę zaoferować panu 15 dni w HOTELU Sugoi, trzygwiazdkowym hotelu w mieście Dubrownik . Miałby pan tam pobyt od 25 sierpnia do 7 września. Oferują bezpłatne WiFi i mają doskonałą ocenę gości 8,49/10 na serwisie Booking.com. Cały pakiet kosztuje 3624,25 złotych. Czy mam to dla pana zarezerwować?\n",
    "Klient: Brzmi naprawdę dobrze. Poproszę o zarezerwację miejsca w Sugoi.\n",
    "Agent: Zrobione! Czy mogę jeszcze w czymś pomóc?\n",
    "Klient: Nie, dziękuję! Bardzo proszę tylko o wysłanie mi planu podróży na mój adres e-mail jak najszybciej.\n",
    "\"\"\""
   ]
  },
  {
   "cell_type": "code",
   "execution_count": 22,
   "metadata": {},
   "outputs": [
    {
     "name": "stdout",
     "output_type": "stream",
     "text": [
      "Problem klienta: Planowanie podróży na urlop pomiędzy 25 sierpnia a 11 września.\n",
      "Wynik rozmowy: Klient zdecydował się na podróż do Chorwacji i zarezerwował pobyt w hotelu Sugoi w Dubrowniku.\n",
      "Zadania do podjęcia: Zarezerwowanie miejsca w hotelu Sugoi oraz wysłanie planu podróży na adres e-mail klienta.\n",
      "Budżety klienta: 4000 złotych na podróż.\n",
      "Miasto wylotu: Warszawa.\n",
      "Miasto docelowe: Dubrownik, Chorwacja.\n"
     ]
    }
   ],
   "source": [
    "prompt = f\"\"\"\n",
    "Przygotuj podsumowanie konwersacji znajdującej się pomiędzy potrójnymi kreskami (```)\n",
    "w podanym formacie:\n",
    "\n",
    "Problem klienta:\n",
    "Wynik rozmowy:\n",
    "Zadania do podjęcia:\n",
    "Budżety klienta:\n",
    "Miasto wylotu:\n",
    "Miasto docelowe:\n",
    "\n",
    "Rozmowa klienta z agentem:\n",
    "```{customer_conversation}```\n",
    "\"\"\"\n",
    "response = get_response(system_prompt, prompt)\n",
    "print(response)"
   ]
  },
  {
   "cell_type": "markdown",
   "metadata": {},
   "source": [
    "## Sample 3\n",
    "Extracting data from text"
   ]
  },
  {
   "cell_type": "code",
   "execution_count": 23,
   "metadata": {},
   "outputs": [],
   "source": [
    "insights = \"\"\"\n",
    "Przez ostatnie pięć lat nasza firma śledziła wyniki sprzedaży pięciu naszych produktów: Produkt A, Produkt B, Produkt C, Produkt D i Produkt E. Nasza analiza pokazuje, że Produkt A konsekwentnie był najchętniej kupowanym produktem, z średnią sprzedażą 10 000 sztuk rocznie, generującym 2 miliony dolarów przychodu rocznego i marżą zysku wynoszącą 15%. Jednak marża zysku dla Produktu A zmalała w ciągu ostatnich dwóch lat, co wskazuje na konieczność ponownej oceny naszej strategii cenowej. Produkt B i Produkt C również wykazują stabilną sprzedaż i rentowność, z średnią sprzedażą 7 500 sztuk rocznie, generującą 1,5 miliona dolarów przychodu rocznego i stałą marżą zysku wynoszącą 20%. Produkt D zanotował lekki spadek sprzedaży w ciągu ostatnich dwóch lat, ze średnią sprzedażą 5 000 sztuk rocznie, generującym 1 milion dolarów przychodu rocznego i marżą zysku wynoszącą 10%. Nasza analiza sugeruje, że możemy potrzebować dostosowania naszych strategii marketingowych lub rozwoju produktu, aby poprawić jego wyniki. Produkt E wykazuje najniższą sprzedaż i rentowność spośród pięciu produktów, ze średnią sprzedażą 2 000 sztuk rocznie, generującą 400 000 dolarów przychodu rocznego i marżą zysku wynoszącą 5%. Konieczne są dalsze badania i potencjalne zmiany w naszej ofercie produktowej lub podejściu marketingowym, aby poprawić wyniki Produktu E. Ogólnie rzecz biorąc, nasza analiza wyników sprzedaży sugeruje, że powinniśmy skupić się na utrzymaniu rentowności naszych najchętniej kupowanych produktów, jednocześnie szukając sposobów poprawy wyników naszych mniej udanych produktów.\n",
    "\"\"\""
   ]
  },
  {
   "cell_type": "code",
   "execution_count": 24,
   "metadata": {},
   "outputs": [
    {
     "name": "stdout",
     "output_type": "stream",
     "text": [
      "Oto tabela JSON z porównaniem wydajności każdego produktu oraz określeniem, który z nich jest najbardziej dochodowy:\n",
      "\n",
      "```json\n",
      "{\n",
      "  \"products\": [\n",
      "    {\n",
      "      \"product_name\": \"Produkt A\",\n",
      "      \"sales\": 10000,\n",
      "      \"revenue\": 2000000,\n",
      "      \"profit_margin\": 15\n",
      "    },\n",
      "    {\n",
      "      \"product_name\": \"Produkt B\",\n",
      "      \"sales\": 7500,\n",
      "      \"revenue\": 1500000,\n",
      "      \"profit_margin\": 20\n",
      "    },\n",
      "    {\n",
      "      \"product_name\": \"Produkt C\",\n",
      "      \"sales\": 7500,\n",
      "      \"revenue\": 1500000,\n",
      "      \"profit_margin\": 20\n",
      "    },\n",
      "    {\n",
      "      \"product_name\": \"Produkt D\",\n",
      "      \"sales\": 5000,\n",
      "      \"revenue\": 1000000,\n",
      "      \"profit_margin\": 10\n",
      "    },\n",
      "    {\n",
      "      \"product_name\": \"Produkt E\",\n",
      "      \"sales\": 2000,\n",
      "      \"revenue\": 400000,\n",
      "      \"profit_margin\": 5\n",
      "    }\n",
      "  ],\n",
      "  \"most_profitable_product\": \"Produkt B\"\n",
      "}\n",
      "```\n",
      "\n",
      "Według analiz\n"
     ]
    }
   ],
   "source": [
    "prompt = f\"\"\"\n",
    "Porównaj wydajność każdego produktu z opisu wydzielonego trzema kreskami i określ, który z nich jest najbardziej dochodowy.\n",
    "Wynik zaprezentuj w postaci tabeli JSON z polami product_name, sales, revenue, profit_margin.\n",
    "\n",
    "Opis:---{insights}---\n",
    "\"\"\"\n",
    "response = get_response(system_prompt, prompt)\n",
    "print(response)"
   ]
  }
 ],
 "metadata": {
  "kernelspec": {
   "display_name": "Python 3",
   "language": "python",
   "name": "python3"
  },
  "language_info": {
   "codemirror_mode": {
    "name": "ipython",
    "version": 3
   },
   "file_extension": ".py",
   "mimetype": "text/x-python",
   "name": "python",
   "nbconvert_exporter": "python",
   "pygments_lexer": "ipython3",
   "version": "3.11.5"
  },
  "orig_nbformat": 4
 },
 "nbformat": 4,
 "nbformat_minor": 2
}
